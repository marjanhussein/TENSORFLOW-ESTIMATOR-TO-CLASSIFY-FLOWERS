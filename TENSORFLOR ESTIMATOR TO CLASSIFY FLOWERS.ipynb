{
 "cells": [
  {
   "cell_type": "code",
   "execution_count": 1,
   "id": "acd5939c",
   "metadata": {},
   "outputs": [],
   "source": [
    "from __future__ import absolute_import, division, print_function, unicode_literals\n",
    "\n",
    "\n",
    "import tensorflow as tf\n",
    "\n",
    "import pandas as pd"
   ]
  },
  {
   "cell_type": "code",
   "execution_count": 2,
   "id": "b7d36328",
   "metadata": {},
   "outputs": [],
   "source": [
    "CSV_COLUMN_NAMES = ['SepalLength', 'SepalWidth', 'PetalLength', 'PetalWidth', 'Species']\n",
    "SPECIES = ['Setosa','Versicolor', 'Virginica']\n",
    "path1 = r\"C:\\Users\\marjan\\Downloads\\iris_training.csv\"\n",
    "train = pd.read_csv(path1 ,names=CSV_COLUMN_NAMES, header=0)\n",
    "path2 = r\"C:\\Users\\marjan\\Downloads\\iris_test.csv\"\n",
    "test = pd.read_csv(path2, names=CSV_COLUMN_NAMES, header=0)"
   ]
  },
  {
   "cell_type": "code",
   "execution_count": 3,
   "id": "ca7534eb",
   "metadata": {},
   "outputs": [
    {
     "data": {
      "text/html": [
       "<div>\n",
       "<style scoped>\n",
       "    .dataframe tbody tr th:only-of-type {\n",
       "        vertical-align: middle;\n",
       "    }\n",
       "\n",
       "    .dataframe tbody tr th {\n",
       "        vertical-align: top;\n",
       "    }\n",
       "\n",
       "    .dataframe thead th {\n",
       "        text-align: right;\n",
       "    }\n",
       "</style>\n",
       "<table border=\"1\" class=\"dataframe\">\n",
       "  <thead>\n",
       "    <tr style=\"text-align: right;\">\n",
       "      <th></th>\n",
       "      <th>SepalLength</th>\n",
       "      <th>SepalWidth</th>\n",
       "      <th>PetalLength</th>\n",
       "      <th>PetalWidth</th>\n",
       "      <th>Species</th>\n",
       "    </tr>\n",
       "  </thead>\n",
       "  <tbody>\n",
       "    <tr>\n",
       "      <th>0</th>\n",
       "      <td>6.4</td>\n",
       "      <td>2.8</td>\n",
       "      <td>5.6</td>\n",
       "      <td>2.2</td>\n",
       "      <td>2</td>\n",
       "    </tr>\n",
       "    <tr>\n",
       "      <th>1</th>\n",
       "      <td>5.0</td>\n",
       "      <td>2.3</td>\n",
       "      <td>3.3</td>\n",
       "      <td>1.0</td>\n",
       "      <td>1</td>\n",
       "    </tr>\n",
       "    <tr>\n",
       "      <th>2</th>\n",
       "      <td>4.9</td>\n",
       "      <td>2.5</td>\n",
       "      <td>4.5</td>\n",
       "      <td>1.7</td>\n",
       "      <td>2</td>\n",
       "    </tr>\n",
       "    <tr>\n",
       "      <th>3</th>\n",
       "      <td>4.9</td>\n",
       "      <td>3.1</td>\n",
       "      <td>1.5</td>\n",
       "      <td>0.1</td>\n",
       "      <td>0</td>\n",
       "    </tr>\n",
       "    <tr>\n",
       "      <th>4</th>\n",
       "      <td>5.7</td>\n",
       "      <td>3.8</td>\n",
       "      <td>1.7</td>\n",
       "      <td>0.3</td>\n",
       "      <td>0</td>\n",
       "    </tr>\n",
       "  </tbody>\n",
       "</table>\n",
       "</div>"
      ],
      "text/plain": [
       "   SepalLength  SepalWidth  PetalLength  PetalWidth  Species\n",
       "0          6.4         2.8          5.6         2.2        2\n",
       "1          5.0         2.3          3.3         1.0        1\n",
       "2          4.9         2.5          4.5         1.7        2\n",
       "3          4.9         3.1          1.5         0.1        0\n",
       "4          5.7         3.8          1.7         0.3        0"
      ]
     },
     "execution_count": 3,
     "metadata": {},
     "output_type": "execute_result"
    }
   ],
   "source": [
    "train.head()"
   ]
  },
  {
   "cell_type": "code",
   "execution_count": 4,
   "id": "9d153c8d",
   "metadata": {},
   "outputs": [
    {
     "data": {
      "text/html": [
       "<div>\n",
       "<style scoped>\n",
       "    .dataframe tbody tr th:only-of-type {\n",
       "        vertical-align: middle;\n",
       "    }\n",
       "\n",
       "    .dataframe tbody tr th {\n",
       "        vertical-align: top;\n",
       "    }\n",
       "\n",
       "    .dataframe thead th {\n",
       "        text-align: right;\n",
       "    }\n",
       "</style>\n",
       "<table border=\"1\" class=\"dataframe\">\n",
       "  <thead>\n",
       "    <tr style=\"text-align: right;\">\n",
       "      <th></th>\n",
       "      <th>SepalLength</th>\n",
       "      <th>SepalWidth</th>\n",
       "      <th>PetalLength</th>\n",
       "      <th>PetalWidth</th>\n",
       "    </tr>\n",
       "  </thead>\n",
       "  <tbody>\n",
       "    <tr>\n",
       "      <th>0</th>\n",
       "      <td>6.4</td>\n",
       "      <td>2.8</td>\n",
       "      <td>5.6</td>\n",
       "      <td>2.2</td>\n",
       "    </tr>\n",
       "    <tr>\n",
       "      <th>1</th>\n",
       "      <td>5.0</td>\n",
       "      <td>2.3</td>\n",
       "      <td>3.3</td>\n",
       "      <td>1.0</td>\n",
       "    </tr>\n",
       "    <tr>\n",
       "      <th>2</th>\n",
       "      <td>4.9</td>\n",
       "      <td>2.5</td>\n",
       "      <td>4.5</td>\n",
       "      <td>1.7</td>\n",
       "    </tr>\n",
       "    <tr>\n",
       "      <th>3</th>\n",
       "      <td>4.9</td>\n",
       "      <td>3.1</td>\n",
       "      <td>1.5</td>\n",
       "      <td>0.1</td>\n",
       "    </tr>\n",
       "    <tr>\n",
       "      <th>4</th>\n",
       "      <td>5.7</td>\n",
       "      <td>3.8</td>\n",
       "      <td>1.7</td>\n",
       "      <td>0.3</td>\n",
       "    </tr>\n",
       "  </tbody>\n",
       "</table>\n",
       "</div>"
      ],
      "text/plain": [
       "   SepalLength  SepalWidth  PetalLength  PetalWidth\n",
       "0          6.4         2.8          5.6         2.2\n",
       "1          5.0         2.3          3.3         1.0\n",
       "2          4.9         2.5          4.5         1.7\n",
       "3          4.9         3.1          1.5         0.1\n",
       "4          5.7         3.8          1.7         0.3"
      ]
     },
     "execution_count": 4,
     "metadata": {},
     "output_type": "execute_result"
    }
   ],
   "source": [
    "train_y = train.pop('Species')\n",
    "test_y = test.pop('Species')\n",
    "train.head()"
   ]
  },
  {
   "cell_type": "code",
   "execution_count": 5,
   "id": "6624d46e",
   "metadata": {},
   "outputs": [
    {
     "data": {
      "text/plain": [
       "(120, 4)"
      ]
     },
     "execution_count": 5,
     "metadata": {},
     "output_type": "execute_result"
    }
   ],
   "source": [
    "train.shape"
   ]
  },
  {
   "cell_type": "markdown",
   "id": "e0b997c3",
   "metadata": {},
   "source": [
    "INPUT FUNCTION"
   ]
  },
  {
   "cell_type": "code",
   "execution_count": 10,
   "id": "0f46de3d",
   "metadata": {},
   "outputs": [],
   "source": [
    "def input_fn(features, labels, training=True, batch_size=256):\n",
    "    # Convert the inputs to a Dataset.\n",
    "    dataset = tf.data.Dataset.from_tensor_slices((dict(features), labels))\n",
    "\n",
    "    # Shuffle and repeat if you are in training mode.\n",
    "    if training:\n",
    "        dataset = dataset.shuffle(1000).repeat()\n",
    "    \n",
    "    return dataset.batch(batch_size)\n"
   ]
  },
  {
   "cell_type": "code",
   "execution_count": 11,
   "id": "5b7bd3ac",
   "metadata": {},
   "outputs": [
    {
     "name": "stdout",
     "output_type": "stream",
     "text": [
      "[NumericColumn(key='SepalLength', shape=(1,), default_value=None, dtype=tf.float32, normalizer_fn=None), NumericColumn(key='SepalWidth', shape=(1,), default_value=None, dtype=tf.float32, normalizer_fn=None), NumericColumn(key='PetalLength', shape=(1,), default_value=None, dtype=tf.float32, normalizer_fn=None), NumericColumn(key='PetalWidth', shape=(1,), default_value=None, dtype=tf.float32, normalizer_fn=None)]\n"
     ]
    }
   ],
   "source": [
    "# Feature columns describe how to use the input.\n",
    "my_feature_columns = []\n",
    "for key in train.keys():\n",
    "    my_feature_columns.append(tf.feature_column.numeric_column(key=key))\n",
    "print(my_feature_columns)"
   ]
  },
  {
   "cell_type": "markdown",
   "id": "1a758d08",
   "metadata": {},
   "source": [
    "BUILDING THE MODEL"
   ]
  },
  {
   "cell_type": "code",
   "execution_count": 12,
   "id": "6acf0bf4",
   "metadata": {},
   "outputs": [
    {
     "name": "stdout",
     "output_type": "stream",
     "text": [
      "INFO:tensorflow:Using default config.\n",
      "WARNING:tensorflow:Using temporary folder as model directory: C:\\Users\\marjan\\AppData\\Local\\Temp\\tmpg8o58ic9\n",
      "INFO:tensorflow:Using config: {'_model_dir': 'C:\\\\Users\\\\marjan\\\\AppData\\\\Local\\\\Temp\\\\tmpg8o58ic9', '_tf_random_seed': None, '_save_summary_steps': 100, '_save_checkpoints_steps': None, '_save_checkpoints_secs': 600, '_session_config': allow_soft_placement: true\n",
      "graph_options {\n",
      "  rewrite_options {\n",
      "    meta_optimizer_iterations: ONE\n",
      "  }\n",
      "}\n",
      ", '_keep_checkpoint_max': 5, '_keep_checkpoint_every_n_hours': 10000, '_log_step_count_steps': 100, '_train_distribute': None, '_device_fn': None, '_protocol': None, '_eval_distribute': None, '_experimental_distribute': None, '_experimental_max_worker_delay_secs': None, '_session_creation_timeout_secs': 7200, '_checkpoint_save_graph_def': True, '_service': None, '_cluster_spec': ClusterSpec({}), '_task_type': 'worker', '_task_id': 0, '_global_id_in_cluster': 0, '_master': '', '_evaluation_master': '', '_is_chief': True, '_num_ps_replicas': 0, '_num_worker_replicas': 1}\n"
     ]
    }
   ],
   "source": [
    "# Build a DNN with 2 hidden layers with 30 and 10 hidden nodes each.\n",
    "classifier = tf.estimator.DNNClassifier(\n",
    "    feature_columns=my_feature_columns,\n",
    "    # Two hidden layers of 30 and 10 nodes respectively.\n",
    "    hidden_units=[30, 10],\n",
    "    # The model must choose between 3 classes.\n",
    "    n_classes=3)"
   ]
  },
  {
   "cell_type": "raw",
   "id": "dd69fd9f",
   "metadata": {},
   "source": [
    "TRAINING"
   ]
  },
  {
   "cell_type": "code",
   "execution_count": 13,
   "id": "417cf5af",
   "metadata": {},
   "outputs": [
    {
     "name": "stdout",
     "output_type": "stream",
     "text": [
      "INFO:tensorflow:Calling model_fn.\n",
      "WARNING:tensorflow:From C:\\Users\\marjan\\anaconda3\\lib\\site-packages\\keras\\optimizers\\optimizer_v2\\adagrad.py:90: calling Constant.__init__ (from tensorflow.python.ops.init_ops) with dtype is deprecated and will be removed in a future version.\n",
      "Instructions for updating:\n",
      "Call initializer instance with the dtype argument instead of passing it to the constructor\n",
      "INFO:tensorflow:Done calling model_fn.\n",
      "INFO:tensorflow:Create CheckpointSaverHook.\n",
      "INFO:tensorflow:Graph was finalized.\n",
      "INFO:tensorflow:Running local_init_op.\n",
      "INFO:tensorflow:Done running local_init_op.\n",
      "INFO:tensorflow:Calling checkpoint listeners before saving checkpoint 0...\n",
      "INFO:tensorflow:Saving checkpoints for 0 into C:\\Users\\marjan\\AppData\\Local\\Temp\\tmpg8o58ic9\\model.ckpt.\n",
      "INFO:tensorflow:Calling checkpoint listeners after saving checkpoint 0...\n",
      "INFO:tensorflow:loss = 3.1391833, step = 0\n",
      "INFO:tensorflow:global_step/sec: 189.767\n",
      "INFO:tensorflow:loss = 1.6203418, step = 100 (0.527 sec)\n",
      "INFO:tensorflow:global_step/sec: 263.393\n",
      "INFO:tensorflow:loss = 1.178925, step = 200 (0.380 sec)\n",
      "INFO:tensorflow:global_step/sec: 256.21\n",
      "INFO:tensorflow:loss = 1.0328083, step = 300 (0.408 sec)\n",
      "INFO:tensorflow:global_step/sec: 259.306\n",
      "INFO:tensorflow:loss = 0.9622811, step = 400 (0.384 sec)\n",
      "INFO:tensorflow:global_step/sec: 239.927\n",
      "INFO:tensorflow:loss = 0.91181767, step = 500 (0.416 sec)\n",
      "INFO:tensorflow:global_step/sec: 245.531\n",
      "INFO:tensorflow:loss = 0.8809743, step = 600 (0.392 sec)\n",
      "INFO:tensorflow:global_step/sec: 255.376\n",
      "INFO:tensorflow:loss = 0.85174376, step = 700 (0.401 sec)\n",
      "INFO:tensorflow:global_step/sec: 236.675\n",
      "INFO:tensorflow:loss = 0.83469826, step = 800 (0.413 sec)\n",
      "INFO:tensorflow:global_step/sec: 260.519\n",
      "INFO:tensorflow:loss = 0.812498, step = 900 (0.384 sec)\n",
      "INFO:tensorflow:global_step/sec: 241.877\n",
      "INFO:tensorflow:loss = 0.8082059, step = 1000 (0.413 sec)\n",
      "INFO:tensorflow:global_step/sec: 263.747\n",
      "INFO:tensorflow:loss = 0.79417884, step = 1100 (0.379 sec)\n",
      "INFO:tensorflow:global_step/sec: 263.389\n",
      "INFO:tensorflow:loss = 0.77698994, step = 1200 (0.380 sec)\n",
      "INFO:tensorflow:global_step/sec: 238.818\n",
      "INFO:tensorflow:loss = 0.7686167, step = 1300 (0.419 sec)\n",
      "INFO:tensorflow:global_step/sec: 252.31\n",
      "INFO:tensorflow:loss = 0.7497215, step = 1400 (0.396 sec)\n",
      "INFO:tensorflow:global_step/sec: 299.577\n",
      "INFO:tensorflow:loss = 0.7367914, step = 1500 (0.338 sec)\n",
      "INFO:tensorflow:global_step/sec: 391.828\n",
      "INFO:tensorflow:loss = 0.7312807, step = 1600 (0.251 sec)\n",
      "INFO:tensorflow:global_step/sec: 338.668\n",
      "INFO:tensorflow:loss = 0.72536, step = 1700 (0.295 sec)\n",
      "INFO:tensorflow:global_step/sec: 348.974\n",
      "INFO:tensorflow:loss = 0.7139532, step = 1800 (0.287 sec)\n",
      "INFO:tensorflow:global_step/sec: 298.672\n",
      "INFO:tensorflow:loss = 0.7055099, step = 1900 (0.334 sec)\n",
      "INFO:tensorflow:global_step/sec: 230.372\n",
      "INFO:tensorflow:loss = 0.70033497, step = 2000 (0.434 sec)\n",
      "INFO:tensorflow:global_step/sec: 267.788\n",
      "INFO:tensorflow:loss = 0.68372, step = 2100 (0.373 sec)\n",
      "INFO:tensorflow:global_step/sec: 246.865\n",
      "INFO:tensorflow:loss = 0.68229085, step = 2200 (0.405 sec)\n",
      "INFO:tensorflow:global_step/sec: 244.521\n",
      "INFO:tensorflow:loss = 0.67153513, step = 2300 (0.409 sec)\n",
      "INFO:tensorflow:global_step/sec: 257.952\n",
      "INFO:tensorflow:loss = 0.67182076, step = 2400 (0.388 sec)\n",
      "INFO:tensorflow:global_step/sec: 257.717\n",
      "INFO:tensorflow:loss = 0.6630099, step = 2500 (0.388 sec)\n",
      "INFO:tensorflow:global_step/sec: 243.597\n",
      "INFO:tensorflow:loss = 0.6622622, step = 2600 (0.415 sec)\n",
      "INFO:tensorflow:global_step/sec: 267.748\n",
      "INFO:tensorflow:loss = 0.6460428, step = 2700 (0.369 sec)\n",
      "INFO:tensorflow:global_step/sec: 266.651\n",
      "INFO:tensorflow:loss = 0.6411705, step = 2800 (0.375 sec)\n",
      "INFO:tensorflow:global_step/sec: 240.903\n",
      "INFO:tensorflow:loss = 0.6298065, step = 2900 (0.415 sec)\n",
      "INFO:tensorflow:global_step/sec: 260.992\n",
      "INFO:tensorflow:loss = 0.633502, step = 3000 (0.383 sec)\n",
      "INFO:tensorflow:global_step/sec: 255.093\n",
      "INFO:tensorflow:loss = 0.64227235, step = 3100 (0.392 sec)\n",
      "INFO:tensorflow:global_step/sec: 254.368\n",
      "INFO:tensorflow:loss = 0.61573076, step = 3200 (0.393 sec)\n",
      "INFO:tensorflow:global_step/sec: 267.448\n",
      "INFO:tensorflow:loss = 0.6197305, step = 3300 (0.374 sec)\n",
      "INFO:tensorflow:global_step/sec: 233.533\n",
      "INFO:tensorflow:loss = 0.60198784, step = 3400 (0.428 sec)\n",
      "INFO:tensorflow:global_step/sec: 242.191\n",
      "INFO:tensorflow:loss = 0.60854703, step = 3500 (0.413 sec)\n",
      "INFO:tensorflow:global_step/sec: 260.1\n",
      "INFO:tensorflow:loss = 0.5993, step = 3600 (0.384 sec)\n",
      "INFO:tensorflow:global_step/sec: 267.625\n",
      "INFO:tensorflow:loss = 0.5986367, step = 3700 (0.374 sec)\n",
      "INFO:tensorflow:global_step/sec: 265.871\n",
      "INFO:tensorflow:loss = 0.59339345, step = 3800 (0.376 sec)\n",
      "INFO:tensorflow:global_step/sec: 254.98\n",
      "INFO:tensorflow:loss = 0.5939103, step = 3900 (0.392 sec)\n",
      "INFO:tensorflow:global_step/sec: 240.282\n",
      "INFO:tensorflow:loss = 0.5825045, step = 4000 (0.424 sec)\n",
      "INFO:tensorflow:global_step/sec: 240.237\n",
      "INFO:tensorflow:loss = 0.5854464, step = 4100 (0.408 sec)\n",
      "INFO:tensorflow:global_step/sec: 266.697\n",
      "INFO:tensorflow:loss = 0.5789798, step = 4200 (0.375 sec)\n",
      "INFO:tensorflow:global_step/sec: 268.388\n",
      "INFO:tensorflow:loss = 0.56507754, step = 4300 (0.373 sec)\n",
      "INFO:tensorflow:global_step/sec: 250.968\n",
      "INFO:tensorflow:loss = 0.57770234, step = 4400 (0.399 sec)\n",
      "INFO:tensorflow:global_step/sec: 239.227\n",
      "INFO:tensorflow:loss = 0.5698254, step = 4500 (0.417 sec)\n",
      "INFO:tensorflow:global_step/sec: 263.635\n",
      "INFO:tensorflow:loss = 0.56803054, step = 4600 (0.379 sec)\n",
      "INFO:tensorflow:global_step/sec: 262.883\n",
      "INFO:tensorflow:loss = 0.55587924, step = 4700 (0.380 sec)\n",
      "INFO:tensorflow:global_step/sec: 268.115\n",
      "INFO:tensorflow:loss = 0.55876404, step = 4800 (0.389 sec)\n",
      "INFO:tensorflow:global_step/sec: 258.013\n",
      "INFO:tensorflow:loss = 0.53846586, step = 4900 (0.377 sec)\n",
      "INFO:tensorflow:Calling checkpoint listeners before saving checkpoint 5000...\n",
      "INFO:tensorflow:Saving checkpoints for 5000 into C:\\Users\\marjan\\AppData\\Local\\Temp\\tmpg8o58ic9\\model.ckpt.\n",
      "INFO:tensorflow:Calling checkpoint listeners after saving checkpoint 5000...\n",
      "INFO:tensorflow:Loss for final step: 0.55616784.\n"
     ]
    },
    {
     "data": {
      "text/plain": [
       "<tensorflow_estimator.python.estimator.canned.dnn.DNNClassifierV2 at 0x244fc9f2c70>"
      ]
     },
     "execution_count": 13,
     "metadata": {},
     "output_type": "execute_result"
    }
   ],
   "source": [
    "classifier.train(input_fn=lambda: input_fn(train, train_y, training=True),steps=5000)\n",
    "# We include a lambda to avoid creating an inner function previously\n"
   ]
  },
  {
   "cell_type": "code",
   "execution_count": 14,
   "id": "c3eaafc6",
   "metadata": {},
   "outputs": [
    {
     "name": "stdout",
     "output_type": "stream",
     "text": [
      "INFO:tensorflow:Calling model_fn.\n",
      "INFO:tensorflow:Done calling model_fn.\n",
      "INFO:tensorflow:Starting evaluation at 2022-10-23T04:31:44\n",
      "INFO:tensorflow:Graph was finalized.\n",
      "INFO:tensorflow:Restoring parameters from C:\\Users\\marjan\\AppData\\Local\\Temp\\tmpg8o58ic9\\model.ckpt-5000\n",
      "INFO:tensorflow:Running local_init_op.\n",
      "INFO:tensorflow:Done running local_init_op.\n",
      "INFO:tensorflow:Inference Time : 2.81618s\n",
      "INFO:tensorflow:Finished evaluation at 2022-10-23-04:31:47\n",
      "INFO:tensorflow:Saving dict for global step 5000: accuracy = 0.53333336, average_loss = 0.6465736, global_step = 5000, loss = 0.6465736\n",
      "INFO:tensorflow:Saving 'checkpoint_path' summary for global step 5000: C:\\Users\\marjan\\AppData\\Local\\Temp\\tmpg8o58ic9\\model.ckpt-5000\n",
      "\n",
      "Test set Accuracy: 0.533\n",
      "\n"
     ]
    }
   ],
   "source": [
    "eval_result = classifier.evaluate(input_fn=lambda: input_fn(test,test_y, training=False))\n",
    "print('\\nTest set Accuracy: {accuracy:0.3f}\\n'.format(**eval_result))"
   ]
  },
  {
   "cell_type": "code",
   "execution_count": 15,
   "id": "8446cdc9",
   "metadata": {},
   "outputs": [
    {
     "name": "stdout",
     "output_type": "stream",
     "text": [
      "Please type numeric values as prompted.\n",
      "SepalLength: 2.3\n",
      "SepalWidth: 3.4\n",
      "PetalLength: 4.5\n",
      "PetalWidth: 5.6\n",
      "INFO:tensorflow:Calling model_fn.\n",
      "INFO:tensorflow:Done calling model_fn.\n",
      "INFO:tensorflow:Graph was finalized.\n",
      "INFO:tensorflow:Restoring parameters from C:\\Users\\marjan\\AppData\\Local\\Temp\\tmpg8o58ic9\\model.ckpt-5000\n",
      "INFO:tensorflow:Running local_init_op.\n",
      "INFO:tensorflow:Done running local_init_op.\n",
      "Prediction is \"Virginica\" (62.5%)\n"
     ]
    }
   ],
   "source": [
    "def input_fn(features, batch_size=256):\n",
    "    # Convert the inputs to a Dataset without labels.\n",
    "    return tf.data.Dataset.from_tensor_slices(dict(features)).batch(batch_size)\n",
    "\n",
    "features = ['SepalLength', 'SepalWidth', 'PetalLength', 'PetalWidth']\n",
    "predict = {}\n",
    "\n",
    "print(\"Please type numeric values as prompted.\")\n",
    "for feature in features:\n",
    "  valid = True\n",
    "  while valid: \n",
    "    val = input(feature + \": \")\n",
    "    if not val.isdigit(): valid = False\n",
    "\n",
    "  predict[feature] = [float(val)]\n",
    "\n",
    "predictions = classifier.predict(input_fn=lambda: input_fn(predict))\n",
    "for pred_dict in predictions:\n",
    "    class_id = pred_dict['class_ids'][0]\n",
    "    probability = pred_dict['probabilities'][class_id]\n",
    "\n",
    "    print('Prediction is \"{}\" ({:.1f}%)'.format(\n",
    "        SPECIES[class_id], 100 * probability))"
   ]
  }
 ],
 "metadata": {
  "kernelspec": {
   "display_name": "Python 3 (ipykernel)",
   "language": "python",
   "name": "python3"
  },
  "language_info": {
   "codemirror_mode": {
    "name": "ipython",
    "version": 3
   },
   "file_extension": ".py",
   "mimetype": "text/x-python",
   "name": "python",
   "nbconvert_exporter": "python",
   "pygments_lexer": "ipython3",
   "version": "3.9.12"
  }
 },
 "nbformat": 4,
 "nbformat_minor": 5
}
